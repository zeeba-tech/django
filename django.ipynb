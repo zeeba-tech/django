{
  "nbformat": 4,
  "nbformat_minor": 0,
  "metadata": {
    "colab": {
      "name": "django.ipynb",
      "provenance": [],
      "collapsed_sections": [],
      "authorship_tag": "ABX9TyOg5o0mJNZOkLwZmVwfv6Ow",
      "include_colab_link": true
    },
    "kernelspec": {
      "name": "python3",
      "display_name": "Python 3"
    }
  },
  "cells": [
    {
      "cell_type": "markdown",
      "metadata": {
        "id": "view-in-github",
        "colab_type": "text"
      },
      "source": [
        "<a href=\"https://colab.research.google.com/github/zeeba-tech/django/blob/main/django.ipynb\" target=\"_parent\"><img src=\"https://colab.research.google.com/assets/colab-badge.svg\" alt=\"Open In Colab\"/></a>"
      ]
    },
    {
      "cell_type": "code",
      "metadata": {
        "id": "qZVM43RHmPie"
      },
      "source": [
        "!django-admin startproject riza_project"
      ],
      "execution_count": 1,
      "outputs": []
    },
    {
      "cell_type": "code",
      "metadata": {
        "colab": {
          "base_uri": "https://localhost:8080/"
        },
        "id": "0cnAITrpmqCZ",
        "outputId": "6aa371ee-cb6b-45c1-b363-66fecdf90a5a"
      },
      "source": [
        "!python3 riza_project/manage.py runserver"
      ],
      "execution_count": 12,
      "outputs": [
        {
          "output_type": "stream",
          "text": [
            "Watching for file changes with StatReloader\n",
            "Performing system checks...\n",
            "\n",
            "System check identified some issues:\n",
            "\n",
            "WARNINGS:\n",
            "\u001b[33;1m?: (2_0.W001) Your URL pattern '^admin/' has a route that contains '(?P<', begins with a '^', or ends with a '$'. This was likely an oversight when migrating to django.urls.path().\u001b[0m\n",
            "\n",
            "System check identified 1 issue (0 silenced).\n",
            "\u001b[31m\n",
            "You have 18 unapplied migration(s). Your project may not work properly until you apply the migrations for app(s): admin, auth, contenttypes, sessions.\u001b[0m\n",
            "\u001b[31mRun 'python manage.py migrate' to apply them.\u001b[0m\n",
            "February 21, 2021 - 08:39:47\n",
            "Django version 3.1.6, using settings 'riza_project.settings'\n",
            "Starting development server at http://127.0.0.1:8000/\n",
            "Quit the server with CONTROL-C.\n",
            "[21/Feb/2021 08:39:49] \u001b[m\"GET / HTTP/1.1\" 200 896\u001b[0m\n",
            "Not Found: /favicon.ico\n",
            "[21/Feb/2021 08:39:50] \u001b[33m\"GET /favicon.ico HTTP/1.1\" 404 2224\u001b[0m\n",
            "[1]\n",
            "[21/Feb/2021 08:39:54] \u001b[m\"GET /resul/?Age=30&csrfmiddlewaretoken=hYjrVd8kWTmCbYCSV4tWPuqT3s5cINr3Fk6pzz0YikHk252WcSgmypdEJiPysEBI&embarked=2&fare=50&parch=1&pclass=1&sex=1&sibsp=2&title=1 HTTP/1.1\" 200 238\u001b[0m\n",
            "Not Found: /favicon.ico\n",
            "[21/Feb/2021 08:39:55] \u001b[33m\"GET /favicon.ico HTTP/1.1\" 404 2224\u001b[0m\n"
          ],
          "name": "stdout"
        }
      ]
    },
    {
      "cell_type": "code",
      "metadata": {
        "colab": {
          "base_uri": "https://localhost:8080/",
          "height": 33
        },
        "id": "HLMh7M5bnJpu",
        "outputId": "e1130256-e3ff-4980-827a-652e1043bee1"
      },
      "source": [
        "from google.colab.output import eval_js\r\n",
        "print(eval_js(\"google.colab.kernel.proxyPort(8000)\"))"
      ],
      "execution_count": 2,
      "outputs": [
        {
          "output_type": "stream",
          "text": [
            "https://c3ulq9lb75g-496ff2e9c6d22116-8000-colab.googleusercontent.com/\n"
          ],
          "name": "stdout"
        }
      ]
    },
    {
      "cell_type": "code",
      "metadata": {
        "id": "6qv0o8c8n3sV",
        "colab": {
          "base_uri": "https://localhost:8080/"
        },
        "outputId": "cba6933f-442b-4b3e-d084-288c6a6d2458"
      },
      "source": [
        "!tar -cvzf riza_project.tar riza_project"
      ],
      "execution_count": 17,
      "outputs": [
        {
          "output_type": "stream",
          "text": [
            "riza_project/\n",
            "riza_project/db.sqlite3\n",
            "riza_project/riza_project/\n",
            "riza_project/riza_project/__init__.py\n",
            "riza_project/riza_project/urls.py\n",
            "riza_project/riza_project/settings.py\n",
            "riza_project/riza_project/ml_predict.py\n",
            "riza_project/riza_project/titanic_model.sav\n",
            "riza_project/riza_project/__pycache__/\n",
            "riza_project/riza_project/__pycache__/__init__.cpython-36.pyc\n",
            "riza_project/riza_project/__pycache__/views.cpython-36.pyc\n",
            "riza_project/riza_project/__pycache__/ml_predict.cpython-36.pyc\n",
            "riza_project/riza_project/__pycache__/urls.cpython-36.pyc\n",
            "riza_project/riza_project/__pycache__/wsgi.cpython-36.pyc\n",
            "riza_project/riza_project/__pycache__/fake_model.cpython-36.pyc\n",
            "riza_project/riza_project/__pycache__/settings.cpython-36.pyc\n",
            "riza_project/riza_project/wsgi.py\n",
            "riza_project/riza_project/fake_model.py\n",
            "riza_project/riza_project/.ipynb_checkpoints/\n",
            "riza_project/riza_project/views.py\n",
            "riza_project/manage.py\n",
            "riza_project/.ipynb_checkpoints/\n",
            "riza_project/copy_of_untitled12.py\n",
            "riza_project/templates/\n",
            "riza_project/templates/index.html\n",
            "riza_project/templates/result.html\n",
            "riza_project/templates/.ipynb_checkpoints/\n"
          ],
          "name": "stdout"
        }
      ]
    },
    {
      "cell_type": "code",
      "metadata": {
        "id": "mEyxdbuzwjIY"
      },
      "source": [
        ""
      ],
      "execution_count": null,
      "outputs": []
    }
  ]
}